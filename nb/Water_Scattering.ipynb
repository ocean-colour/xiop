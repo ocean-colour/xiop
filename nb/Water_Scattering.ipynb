{
 "cells": [
  {
   "cell_type": "markdown",
   "id": "62cc28ba-4041-474d-a8d7-3ef28b9df289",
   "metadata": {},
   "source": [
    "# Water scattering"
   ]
  },
  {
   "cell_type": "code",
   "execution_count": 15,
   "id": "ff386702-45f7-4e07-825f-4a59ced3ae00",
   "metadata": {},
   "outputs": [],
   "source": [
    "# imports\n",
    "from importlib import reload\n",
    "import numpy as np\n",
    "\n",
    "import seaborn as sns\n",
    "from matplotlib import pyplot as plt\n",
    "\n",
    "from oceancolor.water import scattering\n",
    "from oceancolor.hydrolight import loisel23"
   ]
  },
  {
   "cell_type": "code",
   "execution_count": 5,
   "id": "075cc712-92a8-42c2-9f9e-0bcb8886e5b1",
   "metadata": {},
   "outputs": [],
   "source": [
    "%matplotlib ipympl"
   ]
  },
  {
   "cell_type": "markdown",
   "id": "c3653913-7f95-4a62-afda-f8dbc7b9b48b",
   "metadata": {},
   "source": [
    "# Load up Loisel+2023"
   ]
  },
  {
   "cell_type": "code",
   "execution_count": 6,
   "id": "644e8e85-c796-417c-9631-84ba51111a4a",
   "metadata": {},
   "outputs": [],
   "source": [
    "l23_ds = loisel23.load_ds(4,0)"
   ]
  },
  {
   "cell_type": "markdown",
   "id": "2ce4d3e6-728c-416a-a24f-c156a9a42021",
   "metadata": {},
   "source": [
    "## Unpack"
   ]
  },
  {
   "cell_type": "code",
   "execution_count": 7,
   "id": "1eba0391-e638-40ee-8232-b762a6271e4b",
   "metadata": {},
   "outputs": [],
   "source": [
    "l23_wave = l23_ds.Lambda.data\n",
    "l23_Rrs = l23_ds.Rrs.data\n",
    "l23_bbnw = l23_ds.bbnw.data"
   ]
  },
  {
   "cell_type": "markdown",
   "id": "79fef791-0327-4c1b-8f9a-337f73b3774e",
   "metadata": {},
   "source": [
    "# Water"
   ]
  },
  {
   "cell_type": "markdown",
   "id": "b8566262-5e5c-412c-b23c-01bf2e51e765",
   "metadata": {},
   "source": [
    "## Use Loisel+2023 (to be consistent)"
   ]
  },
  {
   "cell_type": "code",
   "execution_count": 8,
   "id": "80e66e80-41e0-4344-85d7-bd7287e93971",
   "metadata": {},
   "outputs": [
    {
     "data": {
      "text/plain": [
       "(81,)"
      ]
     },
     "execution_count": 8,
     "metadata": {},
     "output_type": "execute_result"
    }
   ],
   "source": [
    "aw = (l23_ds.a.data - l23_ds.anw.data)[0]\n",
    "aw.shape"
   ]
  },
  {
   "cell_type": "code",
   "execution_count": 9,
   "id": "0d5cad05-359b-4e5f-adbe-6288d45f3d44",
   "metadata": {},
   "outputs": [],
   "source": [
    "bbw = (l23_ds.bb.data - l23_ds.bbnw.data)[0]"
   ]
  },
  {
   "cell_type": "markdown",
   "id": "7cf76cf7-3137-40d8-82b2-fd6905522783",
   "metadata": {},
   "source": [
    "# Zhang prescription"
   ]
  },
  {
   "cell_type": "code",
   "execution_count": 12,
   "id": "506f3984-c72c-4925-8d1c-68ad8c0cf454",
   "metadata": {},
   "outputs": [],
   "source": [
    "lambda_ = [412, 440, 488, 510, 532, 555, 650, 676, 715]\n",
    "Tc = 20\n",
    "theta = [0]\n",
    "S = 35\n",
    "\n",
    "betasw, beta90sw, bw = scattering.betasw_ZHH2009(lambda_, Tc, theta, S)"
   ]
  },
  {
   "cell_type": "code",
   "execution_count": 13,
   "id": "5ec520a8-4edd-414c-bec2-1caad09242ed",
   "metadata": {},
   "outputs": [
    {
     "data": {
      "text/plain": [
       "array([0.04342016, 0.03280491, 0.02118701, 0.01761005, 0.01476037,\n",
       "       0.0123733 , 0.00642718, 0.00546651, 0.00433837])"
      ]
     },
     "execution_count": 13,
     "metadata": {},
     "output_type": "execute_result"
    }
   ],
   "source": [
    "bw"
   ]
  },
  {
   "cell_type": "markdown",
   "id": "93f969a3-1181-4119-86b9-6a66fb3b83d2",
   "metadata": {},
   "source": [
    "# Loisel+2023"
   ]
  },
  {
   "cell_type": "code",
   "execution_count": 17,
   "id": "8f8df432-398f-43e2-8f2d-fdeed697216c",
   "metadata": {},
   "outputs": [
    {
     "data": {
      "text/plain": [
       "[0.005942000076174736,\n",
       " 0.0043911999091506,\n",
       " 0.002781399991363287,\n",
       " 0.0023496001958847046,\n",
       " 0.001998879946768284,\n",
       " 0.0016477000899612904,\n",
       " 0.0008528000325895846,\n",
       " 0.0007291799411177635,\n",
       " 0.000574460020288825]"
      ]
     },
     "execution_count": 17,
     "metadata": {},
     "output_type": "execute_result"
    }
   ],
   "source": [
    "l23_iwv = [np.argmin(np.abs(item-l23_wave)) for item in lambda_]\n",
    "l23_bw = [2*bbw[item] for item in l23_iwv]\n",
    "l23_bw"
   ]
  },
  {
   "cell_type": "markdown",
   "id": "572b5867-2c3f-4c3c-8624-602245d6669c",
   "metadata": {},
   "source": [
    "## MatLab values (MK)\n",
    "\n",
    "##  bw = 0.0058    0.0044    0.0028    0.0023    0.0020    0.0016    0.0009    0.0007    0.0006"
   ]
  },
  {
   "cell_type": "code",
   "execution_count": null,
   "id": "78b2cd51-f9e6-45c3-95bf-72f14ec778db",
   "metadata": {},
   "outputs": [],
   "source": []
  }
 ],
 "metadata": {
  "kernelspec": {
   "display_name": "Python 3 (ipykernel)",
   "language": "python",
   "name": "python3"
  },
  "language_info": {
   "codemirror_mode": {
    "name": "ipython",
    "version": 3
   },
   "file_extension": ".py",
   "mimetype": "text/x-python",
   "name": "python",
   "nbconvert_exporter": "python",
   "pygments_lexer": "ipython3",
   "version": "3.11.7"
  }
 },
 "nbformat": 4,
 "nbformat_minor": 5
}
